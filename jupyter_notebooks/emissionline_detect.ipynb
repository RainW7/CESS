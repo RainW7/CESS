{
 "cells": [
  {
   "cell_type": "code",
   "execution_count": null,
   "metadata": {},
   "outputs": [],
   "source": [
    "#!/usr/bin/env python\n",
    "# -*-coding:utf-8 -*-\n",
    "'''\n",
    "@Env     \t\t:   grizli\n",
    "@File    \t\t:   ~/emulator/emissionline_detect.ipynb\n",
    "@Time    \t\t:   2023/06/28 20:44:28\n",
    "@Author  \t\t:   Run Wen\n",
    "@Version \t\t:   1.0\n",
    "@Contact \t\t:   wenrun@pmo.ac.cn\n",
    "@Description\t:   Using \"specutils\" to detect emission lines in spectra\n",
    "'''\n"
   ]
  },
  {
   "cell_type": "code",
   "execution_count": 2,
   "metadata": {},
   "outputs": [
    {
     "name": "stderr",
     "output_type": "stream",
     "text": [
      "/Users/rain/miniconda3/envs/grizli/lib/python3.7/site-packages/pysynphot/locations.py:345: UserWarning: Extinction files not found in /Users/rain/grizli/synphot/grp/hst/cdbs/extinction\n",
      "  warnings.warn('Extinction files not found in %s' % (extdir, ))\n"
     ]
    }
   ],
   "source": [
    "import numpy as np\n",
    "from astropy.table import Table\n",
    "import re\n",
    "import os\n",
    "import h5py\n",
    "import math\n",
    "import pysynphot as S\n",
    "from matplotlib.ticker import FuncFormatter,NullFormatter\n",
    "import matplotlib.ticker as ticker\n",
    "import matplotlib\n",
    "import matplotlib.pyplot as plt\n",
    "from tqdm import tqdm\n",
    "from astropy import units as u\n",
    "from specutils.spectra import Spectrum1D\n",
    "from specutils.fitting import find_lines_derivative\n",
    "from specutils.fitting import fit_generic_continuum\n",
    "import specutils\n",
    "import warnings\n",
    "warnings.filterwarnings(\"ignore\")\n",
    "\n",
    "specutils.conf.do_continuum_function_check = False\n",
    "matplotlib.rcParams['figure.figsize'] = [8, 4]"
   ]
  },
  {
   "cell_type": "code",
   "execution_count": 3,
   "metadata": {},
   "outputs": [],
   "source": [
    "hdf5 = h5py.File('/Users/rain/emulator/emulator_v0.6/seedcat2_0420_0_DECaLS_0csp_sfh200_bc2003_hr_stelib_chab_neb_300r_i0100_2dal8_10_inoise0.hdf5')\n",
    "cat = h5py.File('/Users/rain/emulator/emulator_v0.6/CSST_grism_10000_seedcat2_0420_0_DECaLS_0csp_sfh200_bc2003_hr_stelib_chab_neb_300r_i0100_2dal8_10_inoise0.hdf5')\n",
    "bkg = h5py.File('/Users/rain/emulator/bkg_and_tp.hdf5', 'r')\n",
    "csstgu = S.ArrayBandpass(bkg['bkg_gu_wave'][:],bkg['bkg_gu_throughput'][:])\n",
    "csstgv = S.ArrayBandpass(bkg['bkg_gv_wave'][:],bkg['bkg_gv_throughput'][:])\n",
    "csstgi = S.ArrayBandpass(bkg['bkg_gi_wave'][:],bkg['bkg_gi_throughput'][:])\n",
    "gutp = bkg['bkg_gu_throughput'][:]\n",
    "gvtp = bkg['bkg_gv_throughput'][:]\n",
    "gitp = bkg['bkg_gi_throughput'][:]"
   ]
  },
  {
   "cell_type": "code",
   "execution_count": 4,
   "metadata": {},
   "outputs": [],
   "source": [
    "def el_detect(wave,flux,init_wave,end_wave,threshold):\n",
    "    \"\"\" \n",
    "    Detect emission lines in the spectra using 'find_lines_derivative' function in specutils package.\n",
    "\n",
    "    features:\n",
    "    --------\n",
    "    Using 'find_lines_derivative' function to derive emission lines with a normalized spectra ( spectrum/fitted_continuum )\n",
    "    Choosing the initial and end index of wavelength grid to avoid the extremely noisy region at the end of each spectra.\n",
    "    wavelength unit should be in angstrom while flux unit should be in Jy.\n",
    "    Different threshold can result in different line detections results, please have some test before choosing the reasonable threshold.\n",
    "\n",
    "    parameters:\n",
    "    ----------\n",
    "    wave - wavelength grid of the galaxy - [array]\n",
    "    flux - flux grid of the galaxy - [array]\n",
    "    init_wave - the initial index in wavelength grid - [int]\n",
    "    end_wave - the end index in wavelength grid - [int]\n",
    "    # x_unit - the unit used in modeling specutils.spectrum for wavelength, recommanding 'angstrom'\n",
    "    # y_unit - the unit used in modeling specutils.spectrum for flux, recommanding 'Jy'\n",
    "    threshold - threshold of the 'find_lines_derivative'\n",
    "\n",
    "    return:\n",
    "    ------\n",
    "    lines - effective radius of the galaxy in pix\n",
    "    \"\"\"\n",
    "    x = wave[init_wave:end_wave]\n",
    "    y = flux[init_wave:end_wave]\n",
    "\n",
    "    spectrum = Spectrum1D(flux=y*u.uJy, spectral_axis=x*u.angstrom)\n",
    "    g1_fit = fit_generic_continuum(spectrum)\n",
    "    mean = np.mean(spectrum.flux)\n",
    "    continumm = spectrum.flux[np.argmin(np.abs(spectrum.flux - mean))]\n",
    "\n",
    "    y_continuum_fitted = g1_fit(x*u.angstrom)\n",
    "    y_continuum_fitted[y_continuum_fitted < continumm] = continumm\n",
    "    spec_normalized = spectrum / y_continuum_fitted\n",
    "    lines = find_lines_derivative(spec_normalized, flux_threshold=threshold)  \n",
    "\n",
    "    return lines"
   ]
  },
  {
   "cell_type": "code",
   "execution_count": 5,
   "metadata": {},
   "outputs": [
    {
     "name": "stderr",
     "output_type": "stream",
     "text": [
      "100%|██████████| 10000/10000 [05:24<00:00, 30.84it/s]\n"
     ]
    }
   ],
   "source": [
    "noisy_lines = []\n",
    "intrinsic_lines = []\n",
    "for i in tqdm(range(len(cat['ID'][:]))):\n",
    "    noisy_lines.append(el_detect(cat['gi_wave'][:],cat['gi_fnu_with_noise'][i],10,310,1.5))\n",
    "    intrinsic_lines.append(el_detect(cat['gi_wave'][:],cat['gi_fnu'][i],10,310,1.2))"
   ]
  },
  {
   "cell_type": "code",
   "execution_count": 6,
   "metadata": {},
   "outputs": [
    {
     "data": {
      "text/plain": [
       "10000"
      ]
     },
     "execution_count": 6,
     "metadata": {},
     "output_type": "execute_result"
    }
   ],
   "source": [
    "len(noisy_lines)"
   ]
  },
  {
   "cell_type": "code",
   "execution_count": 7,
   "metadata": {},
   "outputs": [],
   "source": [
    "noisy_len = []\n",
    "intrinsic_len = []\n",
    "for i in range(len(noisy_lines)):\n",
    "    noisy_len.append(len(noisy_lines[i]))\n",
    "    intrinsic_len.append(len(intrinsic_lines[i]))"
   ]
  },
  {
   "cell_type": "code",
   "execution_count": 9,
   "metadata": {},
   "outputs": [
    {
     "data": {
      "text/plain": [
       "Text(0.5, 1.0, 'intrinsic spectra EL detection distribution')"
      ]
     },
     "execution_count": 9,
     "metadata": {},
     "output_type": "execute_result"
    },
    {
     "data": {
      "image/png": "[encoded data removed]",
      "text/plain": [
       "<Figure size 720x288 with 2 Axes>"
      ]
     },
     "metadata": {
      "needs_background": "light"
     },
     "output_type": "display_data"
    }
   ],
   "source": [
    "matplotlib.rcParams['figure.figsize'] = [10, 4]\n",
    "fig, ax = plt.subplots(ncols=2, nrows=1, layout='constrained')\n",
    "plt.suptitle('threshold for intrinsic is 1.2')\n",
    "ax[0].hist(noisy_len,bins=np.arange(0,8,1))\n",
    "ax[0].set_title('noisy spectra EL detection distribution')\n",
    "ax[1].hist(intrinsic_len,bins=np.arange(0,8,1))\n",
    "ax[1].set_title('intrinsic spectra EL detection distribution')\n"
   ]
  },
  {
   "cell_type": "code",
   "execution_count": 10,
   "metadata": {},
   "outputs": [
    {
     "data": {
      "text/plain": [
       "Text(0.5, 1.0, 'intrinsic spectra EL detection distribution')"
      ]
     },
     "execution_count": 10,
     "metadata": {},
     "output_type": "execute_result"
    },
    {
     "data": {
      "image/png": "[encoded data removed]",
      "text/plain": [
       "<Figure size 720x288 with 2 Axes>"
      ]
     },
     "metadata": {
      "needs_background": "light"
     },
     "output_type": "display_data"
    }
   ],
   "source": [
    "matplotlib.rcParams['figure.figsize'] = [10, 4]\n",
    "fig, ax = plt.subplots(ncols=2, nrows=1, layout='constrained')\n",
    "plt.suptitle('threshold for intrinsic is 1.2')\n",
    "ax[0].hist(noisy_len,bins=np.arange(0,8,1))\n",
    "ax[0].set_title('noisy spectra EL detection distribution')\n",
    "ax[1].hist(intrinsic_len,bins=np.arange(0,8,1))\n",
    "ax[1].set_title('intrinsic spectra EL detection distribution')\n"
   ]
  },
  {
   "cell_type": "code",
   "execution_count": 11,
   "metadata": {},
   "outputs": [],
   "source": [
    "def el_success(noisy,intri,threshold):\n",
    "    \"\"\" \n",
    "    Detect emission lines in two QTable created by specutils\n",
    "\n",
    "    features:\n",
    "    --------\n",
    "    Using 'find_lines_derivative' function to derive emission lines with a normalized spectra ( spectrum/fitted_continuum )\n",
    "    Choosing the initial and end index of wavelength grid to avoid the extremely noisy region at the end of each spectra.\n",
    "    wavelength unit should be in angstrom while flux unit should be in Jy.\n",
    "    Different threshold can result in different line detections results, please have some test before choosing the reasonable threshold.\n",
    "\n",
    "    parameters:\n",
    "    ----------\n",
    "    noisy - QTable with emission lines detection from simulated noisy spectra - [QTable]\n",
    "    intri - QTable with emission lines detection from simulated intrinsic spectra - [QTable]\n",
    "    threshold - threshold of the emission line center wavelength between noisy and intrinsic spectra - [float]\n",
    "\n",
    "    return:\n",
    "    ------\n",
    "    intrinsic_el_arr - the emission line detection imformation array from intrinsic spectra, this result shows the total emission-line galaxies \n",
    "                       satisfying the 'find_lines_derivative' method in the corresponding hdf5. - [array]\n",
    "    final_detec_el - the emission line detection imformation array from noisy spectra and satisfies the threshold of 'line_center' compared with \n",
    "                     intrinsic spectra (typicallly 1 PSF, 0.3 arcsec, 50 angstrom?). - [array]\n",
    "    success_rate - the successful emission line detection rate from noisy spectra compared with intrinsic spectra - [float]\n",
    "    \"\"\"\n",
    "    \n",
    "    intrinsic_el_list = []\n",
    "    success_detect_list = []\n",
    "    dtype1 = [('id', int), ('wave', list), ('idx', list)]\n",
    "    dtype2 = [('id', int), ('wave', list), ('idx', list), ('el_number', int)]\n",
    "\n",
    "    for i in tqdm(range(len(noisy))):\n",
    "        if len(noisy[i]) == 0:\n",
    "            pass\n",
    "        elif len(noisy[i]) >= 1:\n",
    "            if len(noisy[i][noisy[i]['line_type'] == 'emission']) !=0:\n",
    "\n",
    "                noisy_wave = noisy[i][noisy[i]['line_type'] == 'emission']['line_center'][:] # wave\n",
    "                noisy_wave_idx = noisy[i][noisy[i]['line_type'] == 'emission']['line_center_index'][:] # idx\n",
    "\n",
    "                if len(intri[i]) == 0:\n",
    "                    pass\n",
    "                elif len(intri[i]) >= 1:\n",
    "\n",
    "                    intri_wave = intri[i][intri[i]['line_type'] == 'emission']['line_center'][:] # wave\n",
    "                    intri_wave_idx = intri[i][intri[i]['line_type'] == 'emission']['line_center_index'][:] # idx\n",
    "                    elnumber1 = len(intri_wave)   \n",
    "                    data1 = np.array([(i, list(intri_wave.value), list(intri_wave_idx), elnumber1)],dtype=dtype2)\n",
    "                    intrinsic_el_list.append(data1)\n",
    "\n",
    "                    elnumber2 = 0\n",
    "                    for j in range(len(noisy_wave)):\n",
    "                        for k in range(len(intri_wave)):\n",
    "                            if abs(noisy_wave[j].value-intri_wave[k].value) <= threshold:\n",
    "                                elnumber2+=1\n",
    "                                data2 = np.array([(i, list(noisy_wave.value), list(noisy_wave_idx), elnumber2)],dtype=dtype2)\n",
    "                                success_detect_list.append(data2)\n",
    "    intri_el_arr = np.array(intrinsic_el_list)\n",
    "    intrinsic_el_arr = np.squeeze(intri_el_arr)\n",
    "\n",
    "    success_detect_arr = np.array(success_detect_list)\n",
    "    new_detect_el = []\n",
    "    unique_ids = np.unique(success_detect_arr['id'])\n",
    "    for i, uid in enumerate(unique_ids):\n",
    "        index = np.where(success_detect_arr['id'] == uid)\n",
    "        eln_value = np.max(success_detect_arr['el_number'][index])\n",
    "        new_detect_el.append(success_detect_arr[index][eln_value-1])\n",
    "    final_detec_el = np.array(new_detect_el)\n",
    "\n",
    "    # success_rate = len(final_detec_el)/len(intrinsic_el_arr)\n",
    "\n",
    "    return intrinsic_el_arr, final_detec_el #, success_rate"
   ]
  },
  {
   "cell_type": "code",
   "execution_count": 12,
   "metadata": {},
   "outputs": [
    {
     "name": "stderr",
     "output_type": "stream",
     "text": [
      "100%|██████████| 10000/10000 [00:02<00:00, 4760.64it/s]\n"
     ]
    }
   ],
   "source": [
    "intri_with_el, detect_el = el_success(noisy_lines,intrinsic_lines,50)"
   ]
  },
  {
   "cell_type": "code",
   "execution_count": 13,
   "metadata": {},
   "outputs": [
    {
     "data": {
      "text/plain": [
       "array([(   2, list([7186.501393170599, 9379.743969557454, 9661.915529092606]), list([79, 250, 272]), 3),\n",
       "       (   4, list([7994.538131839441, 8199.753811501369, 8699.967030677319]), list([142, 158, 197]), 3),\n",
       "       (   7, list([6929.981793593189, 9341.266029620843]), list([59, 247]), 2),\n",
       "       ...,\n",
       "       (9995, list([7609.758732473326, 9969.739048585498]), list([112, 296]), 2),\n",
       "       (9996, list([8097.145971670405, 9059.094470085693, 9341.266029620843]), list([150, 225, 247]), 3),\n",
       "       (9997, list([7301.935212980434, 9854.305228775664]), list([88, 287]), 2)],\n",
       "      dtype=[('id', '<i8'), ('wave', 'O'), ('idx', 'O'), ('el_number', '<i8')])"
      ]
     },
     "execution_count": 13,
     "metadata": {},
     "output_type": "execute_result"
    }
   ],
   "source": [
    "len(intri_with_el)\n",
    "intri_with_el"
   ]
  },
  {
   "cell_type": "code",
   "execution_count": 14,
   "metadata": {},
   "outputs": [
    {
     "data": {
      "text/plain": [
       "(27, list([6711.94013395239, 6917.1558136143185, 9059.094470085693]), list([42, 58, 225]), 3)"
      ]
     },
     "execution_count": 14,
     "metadata": {},
     "output_type": "execute_result"
    }
   ],
   "source": [
    "intri_with_el[4]"
   ]
  },
  {
   "cell_type": "code",
   "execution_count": 15,
   "metadata": {},
   "outputs": [
    {
     "data": {
      "text/plain": [
       "(3135,)"
      ]
     },
     "execution_count": 15,
     "metadata": {},
     "output_type": "execute_result"
    }
   ],
   "source": [
    "intri_with_el.shape"
   ]
  },
  {
   "cell_type": "code",
   "execution_count": 16,
   "metadata": {},
   "outputs": [
    {
     "data": {
      "text/plain": [
       "array([(   2, list([7186.501393170599, 8853.878790423765, 9405.395929515196, 9815.827288839053, 9867.131208754534, 9944.087088627757]), list([79, 209, 252, 284, 288, 294]), 2),\n",
       "       (   4, list([7994.538131839441, 8199.753811501369]), list([142, 158]), 2),\n",
       "       (   7, list([6929.981793593189, 9341.266029620843]), list([59, 247]), 2),\n",
       "       ...,\n",
       "       (9990, list([7237.805313086081, 9469.525829409547]), list([83, 257]), 2),\n",
       "       (9995, list([7609.758732473326, 9956.913068606627]), list([112, 295]), 2),\n",
       "       (9997, list([7301.935212980434, 9854.305228775664]), list([88, 287]), 2)],\n",
       "      dtype=[('id', '<i8'), ('wave', 'O'), ('idx', 'O'), ('el_number', '<i8')])"
      ]
     },
     "execution_count": 16,
     "metadata": {},
     "output_type": "execute_result"
    }
   ],
   "source": [
    "len(detect_el)\n",
    "detect_el"
   ]
  },
  {
   "cell_type": "code",
   "execution_count": 1092,
   "metadata": {},
   "outputs": [],
   "source": [
    "\"\"\"\n",
    "How to store the result as hdf5 file\n",
    "\n",
    "\"\"\"\n",
    "import h5py\n",
    "import numpy as np\n",
    "\n",
    "arr = np.array([(2, [7186.501393170599, 9379.743969557454, 9661.915529092606], [79, 250, 272], 3),\n",
    "                (4, [7994.538131839441, 8199.753811501369, 8699.967030677319], [142, 158, 197], 3),\n",
    "                (6, [7699.540592325419], [119], 1),\n",
    "                (9995, [7609.758732473326, 9969.739048585498], [112, 296], 2),\n",
    "                (9996, [8097.145971670405, 9059.094470085693, 9341.266029620843], [150, 225, 247], 3),\n",
    "                (9997, [7301.935212980434, 9854.305228775664], [88, 287], 2)],\n",
    "               dtype=[('id', '<i8'), ('wave', 'O'), ('idx', 'O'), ('el_number', '<i8')])\n",
    "\n",
    "with h5py.File('data.hdf5', 'w') as f:\n",
    "    # 存储整数列\n",
    "    f.create_dataset('id', data=arr['id'])\n",
    "    f.create_dataset('el_number', data=arr['el_number'])\n",
    "    \n",
    "    # 存储 dtype 为 'O' 的列\n",
    "    dt = h5py.special_dtype(vlen=np.dtype('float64'))\n",
    "    wave_dset = f.create_dataset('wave', (len(arr),), dtype=dt)\n",
    "    wave_dset[:] = arr['wave']\n",
    "    \n",
    "    dt = h5py.special_dtype(vlen=np.dtype('int64'))\n",
    "    idx_dset = f.create_dataset('idx', (len(arr),), dtype=dt)\n",
    "    idx_dset[:] = arr['idx']\n"
   ]
  },
  {
   "cell_type": "code",
   "execution_count": 1093,
   "metadata": {},
   "outputs": [],
   "source": [
    "test = h5py.File('data.hdf5','r')"
   ]
  },
  {
   "cell_type": "code",
   "execution_count": 1094,
   "metadata": {},
   "outputs": [
    {
     "data": {
      "text/plain": [
       "<KeysViewHDF5 ['el_number', 'id', 'idx', 'wave']>"
      ]
     },
     "execution_count": 1094,
     "metadata": {},
     "output_type": "execute_result"
    }
   ],
   "source": [
    "test.keys()"
   ]
  },
  {
   "cell_type": "code",
   "execution_count": 1096,
   "metadata": {},
   "outputs": [
    {
     "name": "stdout",
     "output_type": "stream",
     "text": [
      "[3 3 1 2 3 2]\n",
      "[   2    4    6 9995 9996 9997]\n",
      "[array([ 79, 250, 272]) array([142, 158, 197]) array([119])\n",
      " array([112, 296]) array([150, 225, 247]) array([ 88, 287])]\n",
      "[array([7186.50139317, 9379.74396956, 9661.91552909])\n",
      " array([7994.53813184, 8199.7538115 , 8699.96703068])\n",
      " array([7699.54059233]) array([7609.75873247, 9969.73904859])\n",
      " array([8097.14597167, 9059.09447009, 9341.26602962])\n",
      " array([7301.93521298, 9854.30522878])]\n"
     ]
    }
   ],
   "source": [
    "print(test['el_number'][:])\n",
    "print(test['id'][:])\n",
    "print(test['idx'][:])\n",
    "print(test['wave'][:])\n"
   ]
  },
  {
   "cell_type": "code",
   "execution_count": 18,
   "metadata": {},
   "outputs": [
    {
     "data": {
      "text/plain": [
       "array([0., 0., 0., ..., 0., 0., 0.])"
      ]
     },
     "execution_count": 18,
     "metadata": {},
     "output_type": "execute_result"
    }
   ],
   "source": [
    "z_success = np.zeros(len(noisy_lines))\n",
    "z_success"
   ]
  },
  {
   "cell_type": "code",
   "execution_count": 19,
   "metadata": {},
   "outputs": [
    {
     "data": {
      "text/plain": [
       "array([   2,    4,    7, ..., 9995, 9996, 9997])"
      ]
     },
     "execution_count": 19,
     "metadata": {},
     "output_type": "execute_result"
    }
   ],
   "source": [
    "intri_with_el['id']"
   ]
  },
  {
   "cell_type": "code",
   "execution_count": 20,
   "metadata": {},
   "outputs": [
    {
     "data": {
      "text/plain": [
       "array([   2,    4,    7, ..., 9990, 9995, 9997])"
      ]
     },
     "execution_count": 20,
     "metadata": {},
     "output_type": "execute_result"
    }
   ],
   "source": [
    "detect_el['id']"
   ]
  },
  {
   "cell_type": "code",
   "execution_count": 21,
   "metadata": {},
   "outputs": [],
   "source": [
    "for i in range(len(noisy_lines)):\n",
    "    if i in intri_with_el['id']:\n",
    "        z_success[i] = 1\n",
    "        if i in detect_el['id']:\n",
    "            z_success[i] = 2\n",
    "    elif i not in intri_with_el['id']:\n",
    "        z_success[i] = 0"
   ]
  },
  {
   "cell_type": "code",
   "execution_count": 22,
   "metadata": {},
   "outputs": [
    {
     "data": {
      "text/plain": [
       "array([0., 0., 2., ..., 2., 0., 0.])"
      ]
     },
     "execution_count": 22,
     "metadata": {},
     "output_type": "execute_result"
    }
   ],
   "source": [
    "z_success"
   ]
  },
  {
   "cell_type": "code",
   "execution_count": 23,
   "metadata": {},
   "outputs": [
    {
     "name": "stdout",
     "output_type": "stream",
     "text": [
      "49\n",
      "91\n",
      "92\n",
      "123\n",
      "128\n",
      "147\n",
      "177\n",
      "208\n",
      "220\n",
      "352\n",
      "360\n",
      "367\n",
      "370\n",
      "371\n",
      "393\n",
      "476\n",
      "477\n",
      "507\n",
      "514\n",
      "537\n",
      "554\n",
      "581\n",
      "593\n",
      "606\n",
      "662\n",
      "683\n",
      "697\n",
      "698\n",
      "723\n",
      "732\n",
      "752\n",
      "763\n",
      "804\n",
      "805\n",
      "818\n",
      "857\n",
      "911\n",
      "915\n",
      "917\n",
      "926\n",
      "930\n",
      "933\n",
      "943\n",
      "952\n",
      "974\n",
      "986\n",
      "995\n",
      "1002\n",
      "1016\n",
      "1017\n",
      "1026\n",
      "1031\n",
      "1081\n",
      "1108\n",
      "1116\n",
      "1134\n",
      "1145\n",
      "1154\n",
      "1156\n",
      "1160\n",
      "1166\n",
      "1169\n",
      "1189\n",
      "1191\n",
      "1211\n",
      "1216\n",
      "1229\n",
      "1233\n",
      "1248\n",
      "1330\n",
      "1375\n",
      "1394\n",
      "1397\n",
      "1418\n",
      "1422\n",
      "1431\n",
      "1460\n",
      "1477\n",
      "1485\n",
      "1507\n",
      "1518\n",
      "1537\n",
      "1573\n",
      "1602\n",
      "1605\n",
      "1675\n",
      "1677\n",
      "1698\n",
      "1711\n",
      "1750\n",
      "1785\n",
      "1805\n",
      "1813\n",
      "1835\n",
      "1842\n",
      "1859\n",
      "1863\n",
      "1867\n",
      "1936\n",
      "1978\n",
      "2032\n",
      "2045\n",
      "2052\n",
      "2060\n",
      "2061\n",
      "2073\n",
      "2114\n",
      "2123\n",
      "2151\n",
      "2197\n",
      "2234\n",
      "2258\n",
      "2274\n",
      "2275\n",
      "2284\n",
      "2299\n",
      "2313\n",
      "2314\n",
      "2325\n",
      "2351\n",
      "2363\n",
      "2432\n",
      "2457\n",
      "2467\n",
      "2487\n",
      "2509\n",
      "2518\n",
      "2536\n",
      "2541\n",
      "2556\n",
      "2572\n",
      "2583\n",
      "2648\n",
      "2659\n",
      "2675\n",
      "2687\n",
      "2712\n",
      "2729\n",
      "2736\n",
      "2758\n",
      "2794\n",
      "2796\n",
      "2848\n",
      "2881\n",
      "2901\n",
      "2993\n",
      "3007\n",
      "3014\n",
      "3019\n",
      "3029\n",
      "3051\n",
      "3083\n",
      "3107\n",
      "3118\n",
      "3127\n",
      "3135\n",
      "3145\n",
      "3180\n",
      "3233\n",
      "3236\n",
      "3245\n",
      "3265\n",
      "3325\n",
      "3358\n",
      "3376\n",
      "3385\n",
      "3426\n",
      "3441\n",
      "3483\n",
      "3549\n",
      "3606\n",
      "3608\n",
      "3613\n",
      "3635\n",
      "3663\n",
      "3667\n",
      "3682\n",
      "3787\n",
      "3801\n",
      "3840\n",
      "3873\n",
      "3922\n",
      "3928\n",
      "3980\n",
      "4000\n",
      "4001\n",
      "4007\n",
      "4049\n",
      "4079\n",
      "4095\n",
      "4114\n",
      "4132\n",
      "4137\n",
      "4139\n",
      "4175\n",
      "4274\n",
      "4288\n",
      "4295\n",
      "4314\n",
      "4355\n",
      "4418\n",
      "4424\n",
      "4425\n",
      "4445\n",
      "4479\n",
      "4498\n",
      "4510\n",
      "4529\n",
      "4532\n",
      "4546\n",
      "4564\n",
      "4568\n",
      "4572\n",
      "4575\n",
      "4660\n",
      "4676\n",
      "4685\n",
      "4686\n",
      "4708\n",
      "4711\n",
      "4733\n",
      "4774\n",
      "4775\n",
      "4866\n",
      "4870\n",
      "4935\n",
      "4975\n",
      "4994\n",
      "5001\n",
      "5122\n",
      "5134\n",
      "5143\n",
      "5163\n",
      "5214\n",
      "5223\n",
      "5229\n",
      "5270\n",
      "5279\n",
      "5358\n",
      "5365\n",
      "5403\n",
      "5439\n",
      "5471\n",
      "5518\n",
      "5522\n",
      "5582\n",
      "5587\n",
      "5596\n",
      "5606\n",
      "5642\n",
      "5665\n",
      "5680\n",
      "5691\n",
      "5695\n",
      "5719\n",
      "5812\n",
      "5821\n",
      "5867\n",
      "5899\n",
      "5900\n",
      "5975\n",
      "5978\n",
      "6003\n",
      "6071\n",
      "6078\n",
      "6093\n",
      "6144\n",
      "6158\n",
      "6167\n",
      "6178\n",
      "6197\n",
      "6204\n",
      "6205\n",
      "6225\n",
      "6230\n",
      "6309\n",
      "6325\n",
      "6342\n",
      "6373\n",
      "6380\n",
      "6384\n",
      "6410\n",
      "6411\n",
      "6471\n",
      "6509\n",
      "6520\n",
      "6527\n",
      "6552\n",
      "6589\n",
      "6598\n",
      "6616\n",
      "6617\n",
      "6652\n",
      "6694\n",
      "6710\n",
      "6736\n",
      "6750\n",
      "6752\n",
      "6770\n",
      "6799\n",
      "6818\n",
      "6825\n",
      "6835\n",
      "6839\n",
      "6849\n",
      "6869\n",
      "6894\n",
      "6896\n",
      "6901\n",
      "6919\n",
      "6931\n",
      "6936\n",
      "6945\n",
      "6966\n",
      "6968\n",
      "6974\n",
      "6991\n",
      "6996\n",
      "7007\n",
      "7038\n",
      "7069\n",
      "7094\n",
      "7098\n",
      "7103\n",
      "7121\n",
      "7143\n",
      "7148\n",
      "7165\n",
      "7166\n",
      "7238\n",
      "7257\n",
      "7269\n",
      "7275\n",
      "7332\n",
      "7361\n",
      "7379\n",
      "7380\n",
      "7401\n",
      "7425\n",
      "7471\n",
      "7485\n",
      "7503\n",
      "7519\n",
      "7581\n",
      "7603\n",
      "7623\n",
      "7676\n",
      "7693\n",
      "7703\n",
      "7721\n",
      "7742\n",
      "7758\n",
      "7810\n",
      "7836\n",
      "7851\n",
      "7862\n",
      "7879\n",
      "7900\n",
      "7923\n",
      "7928\n",
      "7947\n",
      "7968\n",
      "7975\n",
      "8000\n",
      "8014\n",
      "8047\n",
      "8065\n",
      "8077\n",
      "8078\n",
      "8105\n",
      "8139\n",
      "8209\n",
      "8225\n",
      "8228\n",
      "8229\n",
      "8284\n",
      "8308\n",
      "8322\n",
      "8326\n",
      "8359\n",
      "8370\n",
      "8373\n",
      "8382\n",
      "8442\n",
      "8446\n",
      "8454\n",
      "8465\n",
      "8467\n",
      "8473\n",
      "8474\n",
      "8515\n",
      "8525\n",
      "8526\n",
      "8549\n",
      "8566\n",
      "8570\n",
      "8571\n",
      "8584\n",
      "8587\n",
      "8609\n",
      "8654\n",
      "8675\n",
      "8684\n",
      "8688\n",
      "8700\n",
      "8725\n",
      "8766\n",
      "8772\n",
      "8807\n",
      "8842\n",
      "8858\n",
      "8901\n",
      "8910\n",
      "8930\n",
      "8945\n",
      "9032\n",
      "9037\n",
      "9071\n",
      "9077\n",
      "9142\n",
      "9150\n",
      "9157\n",
      "9190\n",
      "9193\n",
      "9196\n",
      "9217\n",
      "9218\n",
      "9219\n",
      "9221\n",
      "9279\n",
      "9286\n",
      "9299\n",
      "9316\n",
      "9338\n",
      "9353\n",
      "9354\n",
      "9406\n",
      "9451\n",
      "9460\n",
      "9478\n",
      "9558\n",
      "9583\n",
      "9610\n",
      "9613\n",
      "9645\n",
      "9651\n",
      "9688\n",
      "9728\n",
      "9759\n",
      "9764\n",
      "9794\n",
      "9799\n",
      "9810\n",
      "9822\n",
      "9824\n",
      "9827\n",
      "9829\n",
      "9834\n",
      "9838\n",
      "9870\n",
      "9880\n",
      "9924\n",
      "9940\n",
      "9960\n",
      "9965\n",
      "9980\n",
      "9983\n",
      "9991\n",
      "9996\n",
      "469\n"
     ]
    }
   ],
   "source": [
    "k=0\n",
    "for i, vlu in enumerate(z_success):\n",
    "    if vlu == 1:\n",
    "        k+=1\n",
    "        print(i)\n",
    "print(k)"
   ]
  },
  {
   "cell_type": "code",
   "execution_count": 24,
   "metadata": {},
   "outputs": [
    {
     "data": {
      "text/plain": [
       "3135"
      ]
     },
     "execution_count": 24,
     "metadata": {},
     "output_type": "execute_result"
    }
   ],
   "source": [
    "469+2666"
   ]
  },
  {
   "cell_type": "code",
   "execution_count": 27,
   "metadata": {},
   "outputs": [
    {
     "data": {
      "text/html": [
       "<div><i>QTable length=2</i>\n",
       "<table id=\"table140577107619216\" class=\"table-striped table-bordered table-condensed\">\n",
       "<thead><tr><th>line_center</th><th>line_type</th><th>line_center_index</th></tr></thead>\n",
       "<thead><tr><th>Angstrom</th><th></th><th></th></tr></thead>\n",
       "<thead><tr><th>float64</th><th>str8</th><th>int64</th></tr></thead>\n",
       "<tr><td>6929.981793593189</td><td>emission</td><td>59</td></tr>\n",
       "<tr><td>9341.266029620843</td><td>emission</td><td>247</td></tr>\n",
       "</table></div>"
      ],
      "text/plain": [
       "<QTable length=2>\n",
       "   line_center    line_type line_center_index\n",
       "     Angstrom                                \n",
       "     float64         str8         int64      \n",
       "----------------- --------- -----------------\n",
       "6929.981793593189  emission                59\n",
       "9341.266029620843  emission               247"
      ]
     },
     "execution_count": 27,
     "metadata": {},
     "output_type": "execute_result"
    }
   ],
   "source": [
    "noisy_lines[idx]"
   ]
  },
  {
   "cell_type": "code",
   "execution_count": 113,
   "metadata": {},
   "outputs": [
    {
     "name": "stdout",
     "output_type": "stream",
     "text": [
      "[]\n"
     ]
    },
    {
     "data": {
      "image/png": "[encoded data removed]",
      "text/plain": [
       "<Figure size 864x576 with 3 Axes>"
      ]
     },
     "metadata": {
      "needs_background": "light"
     },
     "output_type": "display_data"
    }
   ],
   "source": [
    "idx = 1456\n",
    "matplotlib.rcParams['figure.figsize'] = [12, 8]\n",
    "fig,ax = plt.subplots(3,1)\n",
    "ax[0].plot(cat['gi_wave'][:],cat['gi_fnu_with_noise'][idx])\n",
    "ax[0].set_ylim(0,100)\n",
    "for i in range(len(noisy_lines[idx])):\n",
    "    ax[0].axvline(cat['gi_wave'][noisy_lines[idx][:][i][2]+10],c='r')\n",
    "\n",
    "ax[1].plot(cat['gi_wave'][:],cat['gi_fnu'][idx])\n",
    "ax[1].set_ylim(0,100)\n",
    "for i in range(len(intrinsic_lines[idx])):\n",
    "    ax[1].axvline(cat['gi_wave'][intrinsic_lines[idx][:][i][2]+10],c='r')\n",
    "    \n",
    "ax[2].plot(cat['gi_wave'][:],cat['gi_snr'][idx])\n",
    "# ax[2].axhline(cat['gi_snr'][idx].mean())\n",
    "print(detect_el['el_number'][detect_el['id']==idx])"
   ]
  },
  {
   "cell_type": "code",
   "execution_count": 81,
   "metadata": {},
   "outputs": [],
   "source": [
    "def get_el_snr(snr,flag,detect_el,init_wave_idx):\n",
    "    snr_detect_list = []\n",
    "    # el_mean_snr = []\n",
    "    snr_list = snr[flag==2]\n",
    "    for idx1 in range(len(detect_el)):\n",
    "        el_mean_snr = []\n",
    "        for idx2 in range(len(detect_el['idx'][idx1])):\n",
    "            elidx = init_wave_idx+detect_el['idx'][idx1][idx2]\n",
    "            elwidth = 30 # in index\n",
    "            el_mean_snr.append((snr_list[idx1][elidx-round(elwidth/2) : elidx+round(elwidth/2)]).mean())\n",
    "        # data = np.array([(el_mean_snr)], dtype=[('el_mean_snr', float)])\n",
    "        snr_detect_list.append(el_mean_snr)\n",
    "    snr_detect_arr = np.array(snr_detect_list)\n",
    "    return snr_detect_arr"
   ]
  },
  {
   "cell_type": "code",
   "execution_count": 88,
   "metadata": {},
   "outputs": [
    {
     "data": {
      "text/plain": [
       "array([list([3.122047028492964, 2.359194308387778, 1.5952671141778956, 0.6816463131378714, 0.5561439522857118, 0.3874376023249922]),\n",
       "       list([48.37682725488458, 42.6838483858841]),\n",
       "       list([27.431890618985765, 32.02865687740623]), ...,\n",
       "       list([18.601049714826956, 10.09261165162766]),\n",
       "       list([11.793673108906741, 2.076331069055863]),\n",
       "       list([12.288952682452512, 9.213392602860704])], dtype=object)"
      ]
     },
     "execution_count": 88,
     "metadata": {},
     "output_type": "execute_result"
    }
   ],
   "source": [
    "get_el_snr(cat['gi_snr'][:],z_success,detect_el,10)"
   ]
  },
  {
   "cell_type": "code",
   "execution_count": 70,
   "metadata": {},
   "outputs": [
    {
     "data": {
      "text/plain": [
       "array([(   2, list([7186.501393170599, 8853.878790423765, 9405.395929515196, 9815.827288839053, 9867.131208754534, 9944.087088627757]), list([79, 209, 252, 284, 288, 294]), 2),\n",
       "       (   4, list([7994.538131839441, 8199.753811501369]), list([142, 158]), 2),\n",
       "       (   7, list([6929.981793593189, 9341.266029620843]), list([59, 247]), 2),\n",
       "       ...,\n",
       "       (9990, list([7237.805313086081, 9469.525829409547]), list([83, 257]), 2),\n",
       "       (9995, list([7609.758732473326, 9956.913068606627]), list([112, 295]), 2),\n",
       "       (9997, list([7301.935212980434, 9854.305228775664]), list([88, 287]), 2)],\n",
       "      dtype=[('id', '<i8'), ('wave', 'O'), ('idx', 'O'), ('el_number', '<i8')])"
      ]
     },
     "execution_count": 70,
     "metadata": {},
     "output_type": "execute_result"
    }
   ],
   "source": [
    "detect_el"
   ]
  },
  {
   "cell_type": "code",
   "execution_count": null,
   "metadata": {},
   "outputs": [],
   "source": [
    "matplotlib.rcParams['figure.figsize'] = [12, 8]\n",
    "fig,ax = plt.subplots(3,1)\n",
    "ax[0].plot(cat['gi_wave'][:],cat['gi_fnu_with_noise'][idx])\n",
    "ax[0].set_ylim(0,100)\n",
    "for i in range(len(noisy_lines[idx])):\n",
    "    ax[0].axvline(cat['gi_wave'][noisy_lines[idx][:][i][2]+10],c='r')\n",
    "ax[1].plot(cat['gi_wave'][:],cat['gi_fnu'][idx])\n",
    "ax[1].set_ylim(0,100)\n",
    "for i in range(len(intrinsic_lines[idx])):\n",
    "    ax[1].axvline(cat['gi_wave'][intrinsic_lines[idx][:][i][2]+10],c='r')\n",
    "ax[2].plot(cat['gi_wave'][:],cat['gi_snr'][idx])\n",
    "ax[2].axhline(cat['gi_snr'][idx].mean())"
   ]
  },
  {
   "cell_type": "code",
   "execution_count": 899,
   "metadata": {},
   "outputs": [
    {
     "data": {
      "text/plain": [
       "(0.0, 1.0)"
      ]
     },
     "execution_count": 899,
     "metadata": {},
     "output_type": "execute_result"
    },
    {
     "data": {
      "image/png": "[encoded data removed]",
      "text/plain": [
       "<Figure size 864x576 with 1 Axes>"
      ]
     },
     "metadata": {
      "needs_background": "light"
     },
     "output_type": "display_data"
    }
   ],
   "source": [
    "plt.plot(bkg['bkg_gu_wave'][:],bkg['bkg_gu_throughput'][:])\n",
    "plt.axvline(bkg['bkg_gu_wave'][280])\n",
    "plt.ylim(0,1)"
   ]
  },
  {
   "cell_type": "code",
   "execution_count": 896,
   "metadata": {},
   "outputs": [
    {
     "data": {
      "text/plain": [
       "(0.0, 1.0)"
      ]
     },
     "execution_count": 896,
     "metadata": {},
     "output_type": "execute_result"
    },
    {
     "data": {
      "image/png": "[encoded data removed]",
      "text/plain": [
       "<Figure size 864x576 with 1 Axes>"
      ]
     },
     "metadata": {
      "needs_background": "light"
     },
     "output_type": "display_data"
    }
   ],
   "source": [
    "plt.plot(bkg['bkg_gv_wave'][:],bkg['bkg_gv_throughput'][:])\n",
    "plt.axvline(bkg['bkg_gv_wave'][220])\n",
    "plt.ylim(0,1)"
   ]
  },
  {
   "cell_type": "code",
   "execution_count": 831,
   "metadata": {},
   "outputs": [
    {
     "data": {
      "text/plain": [
       "(0.0, 1.0)"
      ]
     },
     "execution_count": 831,
     "metadata": {},
     "output_type": "execute_result"
    },
    {
     "data": {
      "image/png": "[encoded data removed]",
      "text/plain": [
       "<Figure size 864x576 with 1 Axes>"
      ]
     },
     "metadata": {
      "needs_background": "light"
     },
     "output_type": "display_data"
    }
   ],
   "source": [
    "plt.plot(cat['gi_wave'][:],cat['gi_fnu_with_noise'][idx])\n",
    "plt.plot(bkg['bkg_gi_wave'][:],bkg['bkg_gi_throughput'][:])\n",
    "plt.axvline(bkg['bkg_gi_wave'][120])\n",
    "plt.ylim(0,1)"
   ]
  },
  {
   "cell_type": "code",
   "execution_count": 821,
   "metadata": {},
   "outputs": [
    {
     "data": {
      "text/plain": [
       "<KeysViewHDF5 ['bkg_flam_per_arcsec', 'bkg_gi_fnu_per_arcsec', 'bkg_gi_throughput', 'bkg_gi_wave', 'bkg_gu_fnu_per_arcsec', 'bkg_gu_throughput', 'bkg_gu_wave', 'bkg_gv_fnu_per_arcsec', 'bkg_gv_throughput', 'bkg_gv_wave', 'bkg_wave']>"
      ]
     },
     "execution_count": 821,
     "metadata": {},
     "output_type": "execute_result"
    }
   ],
   "source": [
    "bkg.keys()"
   ]
  },
  {
   "cell_type": "code",
   "execution_count": 832,
   "metadata": {},
   "outputs": [
    {
     "data": {
      "text/plain": [
       "array([11.07827206, 27.52285866, 13.79632539, ..., 26.0219073 ,\n",
       "       16.34395849, 23.87212041])"
      ]
     },
     "execution_count": 832,
     "metadata": {},
     "output_type": "execute_result"
    }
   ],
   "source": [
    "cat['gi_fnu_with_noise'][:,120]"
   ]
  },
  {
   "cell_type": "code",
   "execution_count": 833,
   "metadata": {},
   "outputs": [],
   "source": [
    "def uJy2mAB(flux): return -2.5*np.log10(flux)+23.9"
   ]
  },
  {
   "cell_type": "code",
   "execution_count": 901,
   "metadata": {},
   "outputs": [
    {
     "data": {
      "text/plain": [
       "(array([3.000e+00, 6.000e+01, 5.310e+02, 3.589e+03, 2.783e+03, 7.100e+02,\n",
       "        1.550e+02, 3.400e+01, 1.200e+01, 2.000e+00]),\n",
       " array([16.12563887, 17.68514679, 19.24465471, 20.80416262, 22.36367054,\n",
       "        23.92317845, 25.48268637, 27.04219428, 28.6017022 , 30.16121011,\n",
       "        31.72071803]),\n",
       " <BarContainer object of 10 artists>)"
      ]
     },
     "execution_count": 901,
     "metadata": {},
     "output_type": "execute_result"
    },
    {
     "data": {
      "image/png": "[encoded data removed]",
      "text/plain": [
       "<Figure size 864x576 with 1 Axes>"
      ]
     },
     "metadata": {
      "needs_background": "light"
     },
     "output_type": "display_data"
    }
   ],
   "source": [
    "plt.hist(uJy2mAB(cat['gu_fnu_with_noise'][:,220]))"
   ]
  },
  {
   "cell_type": "code",
   "execution_count": 900,
   "metadata": {},
   "outputs": [
    {
     "data": {
      "text/plain": [
       "(array([2.000e+00, 2.000e+01, 2.560e+02, 1.043e+03, 4.028e+03, 3.483e+03,\n",
       "        6.410e+02, 1.000e+02, 2.800e+01, 3.000e+00]),\n",
       " array([14.05409527, 15.5271045 , 17.00011374, 18.47312297, 19.94613221,\n",
       "        21.41914144, 22.89215067, 24.36515991, 25.83816914, 27.31117838,\n",
       "        28.78418761]),\n",
       " <BarContainer object of 10 artists>)"
      ]
     },
     "execution_count": 900,
     "metadata": {},
     "output_type": "execute_result"
    },
    {
     "data": {
      "image/png": "[encoded data removed]",
      "text/plain": [
       "<Figure size 864x576 with 1 Axes>"
      ]
     },
     "metadata": {
      "needs_background": "light"
     },
     "output_type": "display_data"
    }
   ],
   "source": [
    "plt.hist(uJy2mAB(cat['gv_fnu_with_noise'][:,220]))"
   ]
  },
  {
   "cell_type": "code",
   "execution_count": 838,
   "metadata": {},
   "outputs": [
    {
     "data": {
      "text/plain": [
       "(array([5.000e+00, 1.500e+01, 1.800e+02, 5.820e+02, 2.239e+03, 5.548e+03,\n",
       "        1.320e+03, 7.300e+01, 1.100e+01, 2.000e+00]),\n",
       " array([14.00352362, 15.20556458, 16.40760553, 17.60964649, 18.81168744,\n",
       "        20.0137284 , 21.21576936, 22.41781031, 23.61985127, 24.82189222,\n",
       "        26.02393318]),\n",
       " <BarContainer object of 10 artists>)"
      ]
     },
     "execution_count": 838,
     "metadata": {},
     "output_type": "execute_result"
    },
    {
     "data": {
      "image/png": "[encoded data removed]",
      "text/plain": [
       "<Figure size 864x576 with 1 Axes>"
      ]
     },
     "metadata": {
      "needs_background": "light"
     },
     "output_type": "display_data"
    }
   ],
   "source": [
    "plt.hist(uJy2mAB(cat['gi_fnu_with_noise'][:,120]))"
   ]
  },
  {
   "cell_type": "code",
   "execution_count": 855,
   "metadata": {},
   "outputs": [],
   "source": [
    "gimag = np.around(uJy2mAB(cat['gi_fnu_with_noise'][:,120]),decimals=2)"
   ]
  },
  {
   "cell_type": "code",
   "execution_count": 856,
   "metadata": {},
   "outputs": [
    {
     "data": {
      "text/plain": [
       "[<matplotlib.lines.Line2D at 0x7fb4b2ac48d0>]"
      ]
     },
     "execution_count": 856,
     "metadata": {},
     "output_type": "execute_result"
    },
    {
     "data": {
      "image/png": "[encoded data removed]",
      "text/plain": [
       "<Figure size 864x576 with 1 Axes>"
      ]
     },
     "metadata": {
      "needs_background": "light"
     },
     "output_type": "display_data"
    }
   ],
   "source": [
    "plt.plot(gimag)"
   ]
  },
  {
   "cell_type": "code",
   "execution_count": 857,
   "metadata": {},
   "outputs": [
    {
     "data": {
      "text/plain": [
       "array([21.29, 20.3 , 21.05, ..., 20.36, 20.87, 20.46])"
      ]
     },
     "execution_count": 857,
     "metadata": {},
     "output_type": "execute_result"
    }
   ],
   "source": [
    "np.array(gimag)"
   ]
  },
  {
   "cell_type": "code",
   "execution_count": 858,
   "metadata": {},
   "outputs": [
    {
     "data": {
      "text/plain": [
       "3"
      ]
     },
     "execution_count": 858,
     "metadata": {},
     "output_type": "execute_result"
    }
   ],
   "source": [
    "np.array([0,1,2,3]).max()"
   ]
  },
  {
   "cell_type": "code",
   "execution_count": 864,
   "metadata": {},
   "outputs": [
    {
     "data": {
      "text/plain": [
       "14.0"
      ]
     },
     "execution_count": 864,
     "metadata": {},
     "output_type": "execute_result"
    }
   ],
   "source": [
    "min(gimag)"
   ]
  },
  {
   "cell_type": "code",
   "execution_count": 862,
   "metadata": {},
   "outputs": [
    {
     "data": {
      "text/plain": [
       "20.3"
      ]
     },
     "execution_count": 862,
     "metadata": {},
     "output_type": "execute_result"
    }
   ],
   "source": [
    "gimag[1]"
   ]
  },
  {
   "cell_type": "code",
   "execution_count": 1098,
   "metadata": {},
   "outputs": [
    {
     "name": "stdout",
     "output_type": "stream",
     "text": [
      "b'z_{mean}'\n",
      "b'z_{median}'\n",
      "b'z_{MAP}'\n",
      "b'z_{MAL}'\n",
      "b'log(M*)[0,1]_{mean}'\n",
      "b'log(M*)[0,1]_{median}'\n",
      "b'log(M*)[0,1]_{MAP}'\n",
      "b'log(M*)[0,1]_{MAL}'\n",
      "b'log(SFR_100Myr/[M_{sun}/yr])[0,1]_{mean}'\n",
      "b'log(SFR_100Myr/[M_{sun}/yr])[0,1]_{median}'\n",
      "b'log(SFR_100Myr/[M_{sun}/yr])[0,1]_{MAP}'\n",
      "b'log(SFR_100Myr/[M_{sun}/yr])[0,1]_{MAL}'\n",
      "b'log(H1_6562.81)[0,1]_{mean}'\n",
      "b'log(H1_6562.81)[0,1]_{median}'\n",
      "b'log(H1_6562.81)[0,1]_{MAL}'\n",
      "b'log(H1_6562.81)[0,1]_{MAP}'\n",
      "b'log(H1_4861.33)[0,1]_{mean}'\n",
      "b'log(H1_4861.33)[0,1]_{median}'\n",
      "b'log(H1_4861.33)[0,1]_{MAL}'\n",
      "b'log(H1_4861.33)[0,1]_{MAP}'\n",
      "b'E(B-V)'\n"
     ]
    }
   ],
   "source": []
  },
  {
   "cell_type": "code",
   "execution_count": 1100,
   "metadata": {},
   "outputs": [
    {
     "data": {
      "text/plain": [
       "b'z_{mean}'"
      ]
     },
     "execution_count": 1100,
     "metadata": {},
     "output_type": "execute_result"
    }
   ],
   "source": [
    "extract_param[0]"
   ]
  },
  {
   "cell_type": "code",
   "execution_count": null,
   "metadata": {},
   "outputs": [],
   "source": []
  }
 ],
 "metadata": {
  "kernelspec": {
   "display_name": "grizli",
   "language": "python",
   "name": "python3"
  },
  "language_info": {
   "codemirror_mode": {
    "name": "ipython",
    "version": 3
   },
   "file_extension": ".py",
   "mimetype": "text/x-python",
   "name": "python",
   "nbconvert_exporter": "python",
   "pygments_lexer": "ipython3",
   "version": "3.7.11"
  },
  "orig_nbformat": 4
 },
 "nbformat": 4,
 "nbformat_minor": 2
}
